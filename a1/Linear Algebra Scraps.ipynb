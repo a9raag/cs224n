{
 "cells": [
  {
   "cell_type": "code",
   "execution_count": 237,
   "metadata": {
    "ExecuteTime": {
     "end_time": "2020-06-21T14:50:21.569936Z",
     "start_time": "2020-06-21T14:50:21.565350Z"
    }
   },
   "outputs": [],
   "source": [
    "import numpy as np \n",
    "import numpy.linalg as LA\n",
    "import math\n"
   ]
  },
  {
   "cell_type": "code",
   "execution_count": 262,
   "metadata": {
    "ExecuteTime": {
     "end_time": "2020-06-21T14:57:25.526423Z",
     "start_time": "2020-06-21T14:57:25.521274Z"
    }
   },
   "outputs": [],
   "source": [
    "A = np.array([\n",
    "    [3,1,1],\n",
    "    [-1,3,1]\n",
    "])\n",
    "# A = np.array([[3,2,2], [2,3,-2]])"
   ]
  },
  {
   "cell_type": "code",
   "execution_count": 308,
   "metadata": {
    "ExecuteTime": {
     "end_time": "2020-06-21T15:11:29.283899Z",
     "start_time": "2020-06-21T15:11:29.275303Z"
    }
   },
   "outputs": [],
   "source": [
    "def svd(A):\n",
    "    V = np.dot(A.T, A)\n",
    "    U = np.dot(A, A.T)\n",
    "    uw, uv = LA.eig(U)\n",
    "    vw, vv = LA.eig(V)\n",
    "    S = list()\n",
    "    for i,j in enumerate( range(len(vw)-1, 0, -1)):\n",
    "        arr = np.zeros(len(vw))\n",
    "        arr[i] = math.sqrt(vw[j])\n",
    "        S.append(arr)\n",
    "    print(f\"S = {S}\")\n",
    "    print(f\"U= {np.linalg.qr(uv)}\")\n",
    "    print(f\"V= {vv}\")\n",
    "    return np.dot(np.dot(uv,S), vv)"
   ]
  },
  {
   "cell_type": "code",
   "execution_count": 309,
   "metadata": {
    "ExecuteTime": {
     "end_time": "2020-06-21T15:11:29.661581Z",
     "start_time": "2020-06-21T15:11:29.643707Z"
    }
   },
   "outputs": [
    {
     "name": "stdout",
     "output_type": "stream",
     "text": [
      "S = [array([3.46410162, 0.        , 0.        ]), array([0.        , 3.16227766, 0.        ])]\n",
      "U= (array([[-0.70710678, -0.70710678],\n",
      "       [-0.70710678,  0.70710678]]), array([[-1.,  0.],\n",
      "       [ 0.,  1.]]))\n",
      "V= [[ 1.82574186e-01 -8.94427191e-01 -4.08248290e-01]\n",
      " [ 3.65148372e-01  4.47213595e-01 -8.16496581e-01]\n",
      " [-9.12870929e-01  5.07702013e-16 -4.08248290e-01]]\n"
     ]
    },
    {
     "data": {
      "text/plain": [
       "array([[-0.36928299, -3.19089023,  0.82574186],\n",
       "       [ 1.26371018, -1.19089023, -2.82574186]])"
      ]
     },
     "execution_count": 309,
     "metadata": {},
     "output_type": "execute_result"
    }
   ],
   "source": [
    "svd(A)"
   ]
  },
  {
   "cell_type": "code",
   "execution_count": 314,
   "metadata": {
    "ExecuteTime": {
     "end_time": "2020-06-21T15:14:08.211207Z",
     "start_time": "2020-06-21T15:14:08.202788Z"
    }
   },
   "outputs": [],
   "source": [
    "A = np.array([\n",
    "    [1, 2, 1], \n",
    "    [0, 2, 0],\n",
    "    [2, 3, 1],\n",
    "    [1, 1, 0]\n",
    "])\n",
    "Q, R = LA.qr(A)"
   ]
  },
  {
   "cell_type": "code",
   "execution_count": 315,
   "metadata": {
    "ExecuteTime": {
     "end_time": "2020-06-21T15:14:11.415375Z",
     "start_time": "2020-06-21T15:14:11.407934Z"
    }
   },
   "outputs": [
    {
     "data": {
      "text/plain": [
       "(array([[-4.08248290e-01, -2.35702260e-01,  6.66666667e-01],\n",
       "        [-0.00000000e+00, -9.42809042e-01, -3.33333333e-01],\n",
       "        [-8.16496581e-01, -2.77555756e-17, -5.55111512e-17],\n",
       "        [-4.08248290e-01,  2.35702260e-01, -6.66666667e-01]]),\n",
       " array([[-2.44948974, -3.67423461, -1.22474487],\n",
       "        [ 0.        , -2.12132034, -0.23570226],\n",
       "        [ 0.        ,  0.        ,  0.66666667]]))"
      ]
     },
     "execution_count": 315,
     "metadata": {},
     "output_type": "execute_result"
    }
   ],
   "source": [
    "Q, R"
   ]
  },
  {
   "cell_type": "code",
   "execution_count": 316,
   "metadata": {
    "ExecuteTime": {
     "end_time": "2020-06-21T15:14:30.898598Z",
     "start_time": "2020-06-21T15:14:30.893089Z"
    }
   },
   "outputs": [
    {
     "data": {
      "text/plain": [
       "2.449489742783178"
      ]
     },
     "execution_count": 316,
     "metadata": {},
     "output_type": "execute_result"
    }
   ],
   "source": [
    "math.sqrt(6)"
   ]
  },
  {
   "cell_type": "code",
   "execution_count": 365,
   "metadata": {
    "ExecuteTime": {
     "end_time": "2020-06-21T18:16:45.563268Z",
     "start_time": "2020-06-21T18:16:45.558574Z"
    }
   },
   "outputs": [],
   "source": [
    "def normalize(v):\n",
    "    magnitue = LA.norm(v)\n",
    "    return np.multiply(1/magnitue, v)"
   ]
  },
  {
   "cell_type": "code",
   "execution_count": 501,
   "metadata": {
    "ExecuteTime": {
     "end_time": "2020-06-21T18:44:35.309765Z",
     "start_time": "2020-06-21T18:44:35.302706Z"
    }
   },
   "outputs": [],
   "source": [
    "def gs(M):\n",
    "    U = np.array([normalize(M[:,0])])\n",
    "    for i in range(1, M.shape[1]):\n",
    "        v = M[:,i]\n",
    "        for u in U:\n",
    "            v = np.subtract(v,  np.multiply(np.dot(u,v), u)) \n",
    "        U = np.append(U, [normalize(v)], axis=0)\n",
    "    return U.T\n"
   ]
  },
  {
   "cell_type": "code",
   "execution_count": 504,
   "metadata": {
    "ExecuteTime": {
     "end_time": "2020-06-21T18:44:59.480196Z",
     "start_time": "2020-06-21T18:44:59.470593Z"
    }
   },
   "outputs": [
    {
     "data": {
      "text/plain": [
       "array([[ 4.08248290e-01,  2.35702260e-01,  6.66666667e-01],\n",
       "       [ 0.00000000e+00,  9.42809042e-01, -3.33333333e-01],\n",
       "       [ 8.16496581e-01, -4.18691322e-16, -1.85037171e-16],\n",
       "       [ 4.08248290e-01, -2.35702260e-01, -6.66666667e-01]])"
      ]
     },
     "execution_count": 504,
     "metadata": {},
     "output_type": "execute_result"
    }
   ],
   "source": [
    "M = np.array([\n",
    "    [1, 2, 1], \n",
    "    [0, 2, 0],\n",
    "    [2, 3, 1],\n",
    "    [1, 1, 0]\n",
    "])\n",
    "gs(M)"
   ]
  },
  {
   "cell_type": "code",
   "execution_count": 506,
   "metadata": {
    "ExecuteTime": {
     "end_time": "2020-06-22T04:55:09.253934Z",
     "start_time": "2020-06-22T04:55:09.243350Z"
    }
   },
   "outputs": [
    {
     "data": {
      "text/plain": [
       "False"
      ]
     },
     "execution_count": 506,
     "metadata": {},
     "output_type": "execute_result"
    }
   ],
   "source": [
    "x = 0.0 \n",
    "y = 0.0\n",
    "x is y"
   ]
  },
  {
   "cell_type": "code",
   "execution_count": 514,
   "metadata": {
    "ExecuteTime": {
     "end_time": "2020-06-22T04:57:38.727164Z",
     "start_time": "2020-06-22T04:57:38.721182Z"
    }
   },
   "outputs": [
    {
     "data": {
      "text/plain": [
       "False"
      ]
     },
     "execution_count": 514,
     "metadata": {},
     "output_type": "execute_result"
    }
   ],
   "source": [
    "float(12321) is float(12321)"
   ]
  },
  {
   "cell_type": "code",
   "execution_count": null,
   "metadata": {},
   "outputs": [],
   "source": []
  }
 ],
 "metadata": {
  "kernelspec": {
   "display_name": "Python 3",
   "language": "python",
   "name": "python3"
  },
  "language_info": {
   "codemirror_mode": {
    "name": "ipython",
    "version": 3
   },
   "file_extension": ".py",
   "mimetype": "text/x-python",
   "name": "python",
   "nbconvert_exporter": "python",
   "pygments_lexer": "ipython3",
   "version": "3.7.3"
  },
  "toc": {
   "base_numbering": 1,
   "nav_menu": {},
   "number_sections": true,
   "sideBar": true,
   "skip_h1_title": false,
   "title_cell": "Table of Contents",
   "title_sidebar": "Contents",
   "toc_cell": false,
   "toc_position": {},
   "toc_section_display": true,
   "toc_window_display": false
  }
 },
 "nbformat": 4,
 "nbformat_minor": 2
}
